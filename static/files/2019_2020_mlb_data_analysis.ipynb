{
 "cells": [
  {
   "cell_type": "markdown",
   "metadata": {},
   "source": [
    "# Introduction\n",
    "\n",
    "This project involves examining the 2019 regular season MLB pitching and hitting statistics for players (This is our training data). We will also bring in the current 2020 regular season MLB pitching and hitting stats (this is our testing data).\n",
    " \n",
    "- All datasets were pulled from:  https://www.rotowire.com/baseball/stats.php"
   ]
  },
  {
   "cell_type": "markdown",
   "metadata": {},
   "source": [
    "***"
   ]
  },
  {
   "cell_type": "markdown",
   "metadata": {
    "colab_type": "text",
    "id": "Q4lVU52KhHV3"
   },
   "source": [
    "# MLB Pitching Analysis and Model Building\n",
    "\n",
    "We will examine a model to predict whether or not a team has good pitchers - predicting the results of games based on W (Wins Earned). To accomplish this, we will compare 3 models.\n",
    "\n",
    "## Model building:\n",
    "\n",
    "- Linear Regression\n",
    "- Decision Tree\n",
    "- Random Forest\n",
    "\n",
    "Each model will be evaluated based on R2 score\n",
    "\n",
    "\n",
    "## Why use R2 score?\n",
    "\n",
    "R-Squared is a statistical measure of fit that indicates how much variation of a dependent variable is explained by the independent variable(s) in a regression model.\n",
    "\n",
    "R-squared values range from 0 to 1 and are commonly stated as percentages from 0% to 100% where 100% means that all movements of a dependent variable are completely explained by movements in the independent variable(s) you are interested in.\n",
    "\n",
    "\n",
    "## To Do List:\n",
    "- Imports\n",
    "- Clean the data if need be\n",
    "- Visualize the data and relationships\n",
    "- Start building models\n",
    "- Fine tune the models\n",
    "- Find the best models for the datasets\n",
    "- Compare the test data and the predictions"
   ]
  },
  {
   "cell_type": "code",
   "execution_count": 1,
   "metadata": {
    "colab": {},
    "colab_type": "code",
    "id": "zv4Iejz4iOaP"
   },
   "outputs": [],
   "source": [
    "# Required Imports\n",
    "import pandas as pd\n",
    "import numpy as np\n",
    "import matplotlib.pyplot as plt\n",
    "import seaborn as sns\n",
    "from scipy import stats\n",
    "\n",
    "import sklearn\n",
    "from sklearn.pipeline import Pipeline\n",
    "from sklearn.model_selection import cross_val_score\n",
    "from sklearn.model_selection import train_test_split\n",
    "from sklearn.model_selection import GridSearchCV\n",
    "from sklearn.metrics import r2_score\n",
    "\n",
    "# Models\n",
    "from sklearn.ensemble import RandomForestRegressor\n",
    "from sklearn.linear_model import LinearRegression \n",
    "from sklearn.tree import DecisionTreeRegressor"
   ]
  },
  {
   "cell_type": "code",
   "execution_count": 2,
   "metadata": {
    "colab": {
     "base_uri": "https://localhost:8080/",
     "height": 225
    },
    "colab_type": "code",
    "id": "6dAFbNFbebEL",
    "outputId": "952d8061-414a-4cfb-9886-71a3381ac9d4",
    "scrolled": true
   },
   "outputs": [
    {
     "ename": "FileNotFoundError",
     "evalue": "[Errno 2] File b'data/pitching_data/mlb-pitching-2019.csv' does not exist: b'data/pitching_data/mlb-pitching-2019.csv'",
     "output_type": "error",
     "traceback": [
      "\u001b[1;31m---------------------------------------------------------------------------\u001b[0m",
      "\u001b[1;31mFileNotFoundError\u001b[0m                         Traceback (most recent call last)",
      "\u001b[1;32m<ipython-input-2-67ccebbb8204>\u001b[0m in \u001b[0;36m<module>\u001b[1;34m\u001b[0m\n\u001b[0;32m      1\u001b[0m \u001b[1;31m# Read-in 2019 Pitching Data\u001b[0m\u001b[1;33m\u001b[0m\u001b[1;33m\u001b[0m\u001b[1;33m\u001b[0m\u001b[0m\n\u001b[1;32m----> 2\u001b[1;33m \u001b[0mdf_pitch\u001b[0m \u001b[1;33m=\u001b[0m \u001b[0mpd\u001b[0m\u001b[1;33m.\u001b[0m\u001b[0mread_csv\u001b[0m\u001b[1;33m(\u001b[0m\u001b[1;34m'data/pitching_data/mlb-pitching-2019.csv'\u001b[0m\u001b[1;33m,\u001b[0m \u001b[0mindex_col\u001b[0m\u001b[1;33m=\u001b[0m\u001b[1;34m'Player'\u001b[0m\u001b[1;33m)\u001b[0m\u001b[1;33m\u001b[0m\u001b[1;33m\u001b[0m\u001b[0m\n\u001b[0m\u001b[0;32m      3\u001b[0m \u001b[0mdf_pitch\u001b[0m\u001b[1;33m.\u001b[0m\u001b[0mhead\u001b[0m\u001b[1;33m(\u001b[0m\u001b[1;33m)\u001b[0m\u001b[1;33m\u001b[0m\u001b[1;33m\u001b[0m\u001b[0m\n",
      "\u001b[1;32m~\\AppData\\Local\\Continuum\\anaconda3\\lib\\site-packages\\pandas\\io\\parsers.py\u001b[0m in \u001b[0;36mparser_f\u001b[1;34m(filepath_or_buffer, sep, delimiter, header, names, index_col, usecols, squeeze, prefix, mangle_dupe_cols, dtype, engine, converters, true_values, false_values, skipinitialspace, skiprows, skipfooter, nrows, na_values, keep_default_na, na_filter, verbose, skip_blank_lines, parse_dates, infer_datetime_format, keep_date_col, date_parser, dayfirst, cache_dates, iterator, chunksize, compression, thousands, decimal, lineterminator, quotechar, quoting, doublequote, escapechar, comment, encoding, dialect, error_bad_lines, warn_bad_lines, delim_whitespace, low_memory, memory_map, float_precision)\u001b[0m\n\u001b[0;32m    683\u001b[0m         )\n\u001b[0;32m    684\u001b[0m \u001b[1;33m\u001b[0m\u001b[0m\n\u001b[1;32m--> 685\u001b[1;33m         \u001b[1;32mreturn\u001b[0m \u001b[0m_read\u001b[0m\u001b[1;33m(\u001b[0m\u001b[0mfilepath_or_buffer\u001b[0m\u001b[1;33m,\u001b[0m \u001b[0mkwds\u001b[0m\u001b[1;33m)\u001b[0m\u001b[1;33m\u001b[0m\u001b[1;33m\u001b[0m\u001b[0m\n\u001b[0m\u001b[0;32m    686\u001b[0m \u001b[1;33m\u001b[0m\u001b[0m\n\u001b[0;32m    687\u001b[0m     \u001b[0mparser_f\u001b[0m\u001b[1;33m.\u001b[0m\u001b[0m__name__\u001b[0m \u001b[1;33m=\u001b[0m \u001b[0mname\u001b[0m\u001b[1;33m\u001b[0m\u001b[1;33m\u001b[0m\u001b[0m\n",
      "\u001b[1;32m~\\AppData\\Local\\Continuum\\anaconda3\\lib\\site-packages\\pandas\\io\\parsers.py\u001b[0m in \u001b[0;36m_read\u001b[1;34m(filepath_or_buffer, kwds)\u001b[0m\n\u001b[0;32m    455\u001b[0m \u001b[1;33m\u001b[0m\u001b[0m\n\u001b[0;32m    456\u001b[0m     \u001b[1;31m# Create the parser.\u001b[0m\u001b[1;33m\u001b[0m\u001b[1;33m\u001b[0m\u001b[1;33m\u001b[0m\u001b[0m\n\u001b[1;32m--> 457\u001b[1;33m     \u001b[0mparser\u001b[0m \u001b[1;33m=\u001b[0m \u001b[0mTextFileReader\u001b[0m\u001b[1;33m(\u001b[0m\u001b[0mfp_or_buf\u001b[0m\u001b[1;33m,\u001b[0m \u001b[1;33m**\u001b[0m\u001b[0mkwds\u001b[0m\u001b[1;33m)\u001b[0m\u001b[1;33m\u001b[0m\u001b[1;33m\u001b[0m\u001b[0m\n\u001b[0m\u001b[0;32m    458\u001b[0m \u001b[1;33m\u001b[0m\u001b[0m\n\u001b[0;32m    459\u001b[0m     \u001b[1;32mif\u001b[0m \u001b[0mchunksize\u001b[0m \u001b[1;32mor\u001b[0m \u001b[0miterator\u001b[0m\u001b[1;33m:\u001b[0m\u001b[1;33m\u001b[0m\u001b[1;33m\u001b[0m\u001b[0m\n",
      "\u001b[1;32m~\\AppData\\Local\\Continuum\\anaconda3\\lib\\site-packages\\pandas\\io\\parsers.py\u001b[0m in \u001b[0;36m__init__\u001b[1;34m(self, f, engine, **kwds)\u001b[0m\n\u001b[0;32m    893\u001b[0m             \u001b[0mself\u001b[0m\u001b[1;33m.\u001b[0m\u001b[0moptions\u001b[0m\u001b[1;33m[\u001b[0m\u001b[1;34m\"has_index_names\"\u001b[0m\u001b[1;33m]\u001b[0m \u001b[1;33m=\u001b[0m \u001b[0mkwds\u001b[0m\u001b[1;33m[\u001b[0m\u001b[1;34m\"has_index_names\"\u001b[0m\u001b[1;33m]\u001b[0m\u001b[1;33m\u001b[0m\u001b[1;33m\u001b[0m\u001b[0m\n\u001b[0;32m    894\u001b[0m \u001b[1;33m\u001b[0m\u001b[0m\n\u001b[1;32m--> 895\u001b[1;33m         \u001b[0mself\u001b[0m\u001b[1;33m.\u001b[0m\u001b[0m_make_engine\u001b[0m\u001b[1;33m(\u001b[0m\u001b[0mself\u001b[0m\u001b[1;33m.\u001b[0m\u001b[0mengine\u001b[0m\u001b[1;33m)\u001b[0m\u001b[1;33m\u001b[0m\u001b[1;33m\u001b[0m\u001b[0m\n\u001b[0m\u001b[0;32m    896\u001b[0m \u001b[1;33m\u001b[0m\u001b[0m\n\u001b[0;32m    897\u001b[0m     \u001b[1;32mdef\u001b[0m \u001b[0mclose\u001b[0m\u001b[1;33m(\u001b[0m\u001b[0mself\u001b[0m\u001b[1;33m)\u001b[0m\u001b[1;33m:\u001b[0m\u001b[1;33m\u001b[0m\u001b[1;33m\u001b[0m\u001b[0m\n",
      "\u001b[1;32m~\\AppData\\Local\\Continuum\\anaconda3\\lib\\site-packages\\pandas\\io\\parsers.py\u001b[0m in \u001b[0;36m_make_engine\u001b[1;34m(self, engine)\u001b[0m\n\u001b[0;32m   1133\u001b[0m     \u001b[1;32mdef\u001b[0m \u001b[0m_make_engine\u001b[0m\u001b[1;33m(\u001b[0m\u001b[0mself\u001b[0m\u001b[1;33m,\u001b[0m \u001b[0mengine\u001b[0m\u001b[1;33m=\u001b[0m\u001b[1;34m\"c\"\u001b[0m\u001b[1;33m)\u001b[0m\u001b[1;33m:\u001b[0m\u001b[1;33m\u001b[0m\u001b[1;33m\u001b[0m\u001b[0m\n\u001b[0;32m   1134\u001b[0m         \u001b[1;32mif\u001b[0m \u001b[0mengine\u001b[0m \u001b[1;33m==\u001b[0m \u001b[1;34m\"c\"\u001b[0m\u001b[1;33m:\u001b[0m\u001b[1;33m\u001b[0m\u001b[1;33m\u001b[0m\u001b[0m\n\u001b[1;32m-> 1135\u001b[1;33m             \u001b[0mself\u001b[0m\u001b[1;33m.\u001b[0m\u001b[0m_engine\u001b[0m \u001b[1;33m=\u001b[0m \u001b[0mCParserWrapper\u001b[0m\u001b[1;33m(\u001b[0m\u001b[0mself\u001b[0m\u001b[1;33m.\u001b[0m\u001b[0mf\u001b[0m\u001b[1;33m,\u001b[0m \u001b[1;33m**\u001b[0m\u001b[0mself\u001b[0m\u001b[1;33m.\u001b[0m\u001b[0moptions\u001b[0m\u001b[1;33m)\u001b[0m\u001b[1;33m\u001b[0m\u001b[1;33m\u001b[0m\u001b[0m\n\u001b[0m\u001b[0;32m   1136\u001b[0m         \u001b[1;32melse\u001b[0m\u001b[1;33m:\u001b[0m\u001b[1;33m\u001b[0m\u001b[1;33m\u001b[0m\u001b[0m\n\u001b[0;32m   1137\u001b[0m             \u001b[1;32mif\u001b[0m \u001b[0mengine\u001b[0m \u001b[1;33m==\u001b[0m \u001b[1;34m\"python\"\u001b[0m\u001b[1;33m:\u001b[0m\u001b[1;33m\u001b[0m\u001b[1;33m\u001b[0m\u001b[0m\n",
      "\u001b[1;32m~\\AppData\\Local\\Continuum\\anaconda3\\lib\\site-packages\\pandas\\io\\parsers.py\u001b[0m in \u001b[0;36m__init__\u001b[1;34m(self, src, **kwds)\u001b[0m\n\u001b[0;32m   1915\u001b[0m         \u001b[0mkwds\u001b[0m\u001b[1;33m[\u001b[0m\u001b[1;34m\"usecols\"\u001b[0m\u001b[1;33m]\u001b[0m \u001b[1;33m=\u001b[0m \u001b[0mself\u001b[0m\u001b[1;33m.\u001b[0m\u001b[0musecols\u001b[0m\u001b[1;33m\u001b[0m\u001b[1;33m\u001b[0m\u001b[0m\n\u001b[0;32m   1916\u001b[0m \u001b[1;33m\u001b[0m\u001b[0m\n\u001b[1;32m-> 1917\u001b[1;33m         \u001b[0mself\u001b[0m\u001b[1;33m.\u001b[0m\u001b[0m_reader\u001b[0m \u001b[1;33m=\u001b[0m \u001b[0mparsers\u001b[0m\u001b[1;33m.\u001b[0m\u001b[0mTextReader\u001b[0m\u001b[1;33m(\u001b[0m\u001b[0msrc\u001b[0m\u001b[1;33m,\u001b[0m \u001b[1;33m**\u001b[0m\u001b[0mkwds\u001b[0m\u001b[1;33m)\u001b[0m\u001b[1;33m\u001b[0m\u001b[1;33m\u001b[0m\u001b[0m\n\u001b[0m\u001b[0;32m   1918\u001b[0m         \u001b[0mself\u001b[0m\u001b[1;33m.\u001b[0m\u001b[0munnamed_cols\u001b[0m \u001b[1;33m=\u001b[0m \u001b[0mself\u001b[0m\u001b[1;33m.\u001b[0m\u001b[0m_reader\u001b[0m\u001b[1;33m.\u001b[0m\u001b[0munnamed_cols\u001b[0m\u001b[1;33m\u001b[0m\u001b[1;33m\u001b[0m\u001b[0m\n\u001b[0;32m   1919\u001b[0m \u001b[1;33m\u001b[0m\u001b[0m\n",
      "\u001b[1;32mpandas\\_libs\\parsers.pyx\u001b[0m in \u001b[0;36mpandas._libs.parsers.TextReader.__cinit__\u001b[1;34m()\u001b[0m\n",
      "\u001b[1;32mpandas\\_libs\\parsers.pyx\u001b[0m in \u001b[0;36mpandas._libs.parsers.TextReader._setup_parser_source\u001b[1;34m()\u001b[0m\n",
      "\u001b[1;31mFileNotFoundError\u001b[0m: [Errno 2] File b'data/pitching_data/mlb-pitching-2019.csv' does not exist: b'data/pitching_data/mlb-pitching-2019.csv'"
     ]
    }
   ],
   "source": [
    "# Read-in 2019 Pitching Data\n",
    "df_pitch = pd.read_csv('data/pitching_data/mlb-pitching-2019.csv', index_col='Player')\n",
    "df_pitch.head()"
   ]
  },
  {
   "cell_type": "code",
   "execution_count": null,
   "metadata": {
    "colab": {
     "base_uri": "https://localhost:8080/",
     "height": 304
    },
    "colab_type": "code",
    "id": "5CSKNa6Nhu1J",
    "outputId": "40d7526d-07ef-4473-f298-a5a16cadc683",
    "scrolled": true
   },
   "outputs": [],
   "source": [
    "# Describe Data\n",
    "df_pitch.describe()"
   ]
  },
  {
   "cell_type": "code",
   "execution_count": null,
   "metadata": {
    "colab": {
     "base_uri": "https://localhost:8080/",
     "height": 474
    },
    "colab_type": "code",
    "id": "2jtA5eQBh0oR",
    "outputId": "042bccfa-cd79-4bce-a074-d12d3668a715"
   },
   "outputs": [],
   "source": [
    "#Get info on the Data\n",
    "df_pitch.info()"
   ]
  },
  {
   "cell_type": "code",
   "execution_count": null,
   "metadata": {
    "colab": {},
    "colab_type": "code",
    "id": "EcFLSggkh3we"
   },
   "outputs": [],
   "source": [
    "#Drop Team Column\n",
    "df_pitch = df_pitch.drop(['Team'], axis=1)"
   ]
  },
  {
   "cell_type": "code",
   "execution_count": null,
   "metadata": {
    "colab": {
     "base_uri": "https://localhost:8080/",
     "height": 457
    },
    "colab_type": "code",
    "id": "hHEXmOsyh8pB",
    "outputId": "90c176f3-8417-4e04-e854-2872f93fe8b5"
   },
   "outputs": [],
   "source": [
    "#Get info on the Data\n",
    "df_pitch.info()"
   ]
  },
  {
   "cell_type": "markdown",
   "metadata": {},
   "source": [
    "## Correlation Matrix\n",
    "\n",
    "The correlation matrix allows us to compare the various data points to identify how correlated each is to the others.  From this information, we can determine which features to use for building our models."
   ]
  },
  {
   "cell_type": "code",
   "execution_count": null,
   "metadata": {
    "colab": {},
    "colab_type": "code",
    "id": "rvdDWnU4iAJI"
   },
   "outputs": [],
   "source": [
    "# Correlation Matrix of quantitative features\n",
    "c_pitch = df_pitch.corr()"
   ]
  },
  {
   "cell_type": "code",
   "execution_count": null,
   "metadata": {
    "colab": {
     "base_uri": "https://localhost:8080/",
     "height": 654
    },
    "colab_type": "code",
    "id": "GyOWWEsviD11",
    "outputId": "eea6fffb-0bcf-4e7f-8b02-7918bafa5139"
   },
   "outputs": [],
   "source": [
    "#visualizing the correlation matrix\n",
    "plt.figure(figsize=(30,15))\n",
    "sns.heatmap(c_pitch,cmap=\"BrBG\", annot=True)"
   ]
  },
  {
   "cell_type": "code",
   "execution_count": null,
   "metadata": {
    "colab": {
     "base_uri": "https://localhost:8080/",
     "height": 34
    },
    "colab_type": "code",
    "id": "EJ9ZSEOOiIJm",
    "outputId": "940d5308-9972-452c-e04a-71e93f228e36"
   },
   "outputs": [],
   "source": [
    "# Getting Features that have a correlation of greater than 0.5 for model building\n",
    "\n",
    "selected_features = []\n",
    "for i in range(len(c_pitch['W'])):\n",
    "  if c_pitch['W'].values[i] >= 0.5 and c_pitch['W'].values[i] != 1.0:\n",
    "    selected_features.append(c_pitch['W'].index[i])\n",
    "  \n",
    "selected_features"
   ]
  },
  {
   "cell_type": "markdown",
   "metadata": {},
   "source": [
    "# Splitting the Data to train and test the various models."
   ]
  },
  {
   "cell_type": "code",
   "execution_count": null,
   "metadata": {
    "colab": {},
    "colab_type": "code",
    "id": "GaQO5v7iiRmB"
   },
   "outputs": [],
   "source": [
    "X_ = df_pitch[selected_features]\n",
    "y_ = df_pitch.W"
   ]
  },
  {
   "cell_type": "code",
   "execution_count": null,
   "metadata": {
    "colab": {},
    "colab_type": "code",
    "id": "mShV9g-6iUb0"
   },
   "outputs": [],
   "source": [
    "X_train_, X_test_, y_train_, y_test_ = train_test_split(X_, y_,test_size = .20)"
   ]
  },
  {
   "cell_type": "markdown",
   "metadata": {},
   "source": [
    "## Linear Regression"
   ]
  },
  {
   "cell_type": "code",
   "execution_count": null,
   "metadata": {
    "colab": {
     "base_uri": "https://localhost:8080/",
     "height": 34
    },
    "colab_type": "code",
    "id": "x01QxjRUie6t",
    "outputId": "3924fc14-e7a5-4a03-e193-e0d7d3942ffa"
   },
   "outputs": [],
   "source": [
    "# Linear Regression Pipeline\n",
    "lr = Pipeline(steps=[('LinReg', LinearRegression())])\n",
    "lr.fit(X_train_, y_train_)\n",
    "\n",
    "lr_preds_ = lr.predict(X_test_)\n",
    "print(f'Linear Regression model R2 score:  {r2_score(y_test_, lr_preds_)}')"
   ]
  },
  {
   "cell_type": "markdown",
   "metadata": {},
   "source": [
    "## Decision Trees"
   ]
  },
  {
   "cell_type": "code",
   "execution_count": null,
   "metadata": {
    "colab": {
     "base_uri": "https://localhost:8080/",
     "height": 34
    },
    "colab_type": "code",
    "id": "qlUaXEghimpY",
    "outputId": "0bb3d9cd-cc13-4c4e-8795-4275a2165c60"
   },
   "outputs": [],
   "source": [
    "#Hyperparameter optimization for DecisionTreeRegressor\n",
    "parameters_ = {\n",
    "    'max_depth':[15,20,30],\n",
    "}\n",
    "dtc_ = Pipeline(steps=[('CV',GridSearchCV(DecisionTreeRegressor(), parameters_, cv = 5))])\n",
    "dtc_.fit(X_train_, y_train_)\n",
    "dtc_.named_steps['CV'].best_params_"
   ]
  },
  {
   "cell_type": "code",
   "execution_count": null,
   "metadata": {
    "colab": {
     "base_uri": "https://localhost:8080/",
     "height": 34
    },
    "colab_type": "code",
    "id": "R3emK-C3isxD",
    "outputId": "9a42877f-c4ef-4333-e5e8-d2efb79ad6dc"
   },
   "outputs": [],
   "source": [
    "# DecisionTrees pipeline \n",
    "dt_ = Pipeline(steps=[('LogReg', DecisionTreeRegressor(max_depth=20))])\n",
    "dt_.fit(X_train_,y_train_)\n",
    "dt_preds_ = dt_.predict(X_test_)\n",
    "print(f'Decision Trees model R2 score:  {r2_score(y_test_, dt_preds_)}')"
   ]
  },
  {
   "cell_type": "markdown",
   "metadata": {},
   "source": [
    "## Random Forest"
   ]
  },
  {
   "cell_type": "code",
   "execution_count": null,
   "metadata": {
    "colab": {
     "base_uri": "https://localhost:8080/",
     "height": 34
    },
    "colab_type": "code",
    "id": "odV96Fihi4jH",
    "outputId": "300419d4-8bbb-44e4-ee0b-583680d1b460"
   },
   "outputs": [],
   "source": [
    "# Hyperparameter optimization of RandomForestClassifier\n",
    "parameters = {\n",
    "    'max_depth':[6,12,15,20],\n",
    "    'n_estimators':[20,30]\n",
    "}\n",
    "rfc = Pipeline([('CV',GridSearchCV(RandomForestRegressor(), parameters, cv = 5))])\n",
    "rfc.fit(X_train_, y_train_)\n",
    "rfc.named_steps['CV'].best_params_"
   ]
  },
  {
   "cell_type": "code",
   "execution_count": null,
   "metadata": {
    "colab": {
     "base_uri": "https://localhost:8080/",
     "height": 34
    },
    "colab_type": "code",
    "id": "gHY1Y7POjCys",
    "outputId": "fa61b866-0c3d-4cb4-c318-c2742d68ac41"
   },
   "outputs": [],
   "source": [
    "# RandomForestTrees pipeline \n",
    "rf = Pipeline(steps=[('LogReg', RandomForestRegressor(max_depth=6,n_estimators=30))])\n",
    "rf.fit(X_train_,y_train_)\n",
    "rf_preds = rf.predict(X_test_)\n",
    "print(f'Random Forest model R2 score:  {r2_score(y_test_,rf_preds)}')"
   ]
  },
  {
   "cell_type": "markdown",
   "metadata": {},
   "source": [
    "### Compare predictions from the original 2019 testing data.\n",
    "\n",
    "We use our best model to show the predicted wins compared to the real W (Wins earned) by the players."
   ]
  },
  {
   "cell_type": "code",
   "execution_count": null,
   "metadata": {
    "colab": {},
    "colab_type": "code",
    "id": "gi2lvsYijJou"
   },
   "outputs": [],
   "source": [
    "y_pred = lr.predict(X_)"
   ]
  },
  {
   "cell_type": "code",
   "execution_count": null,
   "metadata": {
    "colab": {},
    "colab_type": "code",
    "id": "NnfzBtHsjL6q"
   },
   "outputs": [],
   "source": [
    "predictions_df = pd.DataFrame({'Real W':df_pitch.W, 'Predicted W':y_pred})"
   ]
  },
  {
   "cell_type": "code",
   "execution_count": null,
   "metadata": {
    "colab": {
     "base_uri": "https://localhost:8080/",
     "height": 225
    },
    "colab_type": "code",
    "id": "sc-hepN-jO0z",
    "outputId": "0d26d268-421b-4d70-a64f-6466906124fb"
   },
   "outputs": [],
   "source": [
    "predictions_df.head()"
   ]
  },
  {
   "cell_type": "code",
   "execution_count": null,
   "metadata": {},
   "outputs": [],
   "source": [
    "# Exporting Model for later use\n",
    "import pickle\n",
    "\n",
    "filename_lr = 'lr_pitching_model.sav'\n",
    "pickle.dump(lr, open(filename_lr, 'wb'))"
   ]
  },
  {
   "cell_type": "markdown",
   "metadata": {
    "colab_type": "text",
    "id": "aKbpE11ElzGF"
   },
   "source": [
    "---"
   ]
  },
  {
   "cell_type": "markdown",
   "metadata": {
    "colab_type": "text",
    "id": "CZlDygzckMrR"
   },
   "source": [
    "### 2020 Pitching Predictions\n",
    "\n",
    "Now we are going to test our model again using the 2020 independent data to predict the 2020 actual results."
   ]
  },
  {
   "cell_type": "code",
   "execution_count": null,
   "metadata": {
    "colab": {
     "base_uri": "https://localhost:8080/",
     "height": 225
    },
    "colab_type": "code",
    "id": "mzyMYu9gjQdS",
    "outputId": "15c88a26-9a7a-4c4a-c0c2-da3c2525b89a"
   },
   "outputs": [],
   "source": [
    "#Read in new Data\n",
    "df = pd.read_csv('data/pitching_data/mlb-pitching-2020.csv', index_col='Player')\n",
    "df.head()\n",
    "df = df.drop(['Team'], axis=1)\n",
    "df.head()"
   ]
  },
  {
   "cell_type": "code",
   "execution_count": null,
   "metadata": {
    "colab": {
     "base_uri": "https://localhost:8080/",
     "height": 34
    },
    "colab_type": "code",
    "id": "a7KZmLoVja_l",
    "outputId": "d67718e3-d65b-4c14-cdbe-e85fb60b0389"
   },
   "outputs": [],
   "source": [
    "# List of Features that will help test the model\n",
    "features = ['GS', 'IP', 'H', 'ER', 'K', 'BB', 'HR', 'L']\n",
    "\n",
    "c = df.corr()\n",
    "selected_features = []\n",
    "for i in range(len(c['W'])):\n",
    "  if c['W'].values[i] >= 0.5 and c['W'].values[i] != 1.0:\n",
    "    selected_features.append(c['W'].index[i])\n",
    "  \n",
    "selected_features"
   ]
  },
  {
   "cell_type": "code",
   "execution_count": null,
   "metadata": {
    "colab": {},
    "colab_type": "code",
    "id": "NTn7Ff_GkVs2"
   },
   "outputs": [],
   "source": [
    "# Creating X and y\n",
    "X = df[features]\n",
    "y = df.W"
   ]
  },
  {
   "cell_type": "code",
   "execution_count": null,
   "metadata": {
    "colab": {
     "base_uri": "https://localhost:8080/",
     "height": 77
    },
    "colab_type": "code",
    "id": "TjistZ2qkYPs",
    "outputId": "8626eb54-89d4-4130-b1b8-741de1b17340"
   },
   "outputs": [],
   "source": [
    "#This is a single test from 2016 stats - Justin Verlander\n",
    "fake_test = pd.DataFrame({\n",
    "    'GS':34,\n",
    "    'IP':223.0,\n",
    "    'H':137,\n",
    "    'ER':64,\n",
    "    'K':300,\n",
    "    'BB':42,\n",
    "    'HR':36,\n",
    "    'L':6\n",
    "}, index=[0])\n",
    "fake_test.head()"
   ]
  },
  {
   "cell_type": "code",
   "execution_count": null,
   "metadata": {
    "colab": {},
    "colab_type": "code",
    "id": "3Q8EQ3adldXe"
   },
   "outputs": [],
   "source": [
    "# Load in Model\n",
    "loaded_model = pickle.load(open('lr_pitching_model.sav', 'rb'))"
   ]
  },
  {
   "cell_type": "code",
   "execution_count": null,
   "metadata": {
    "colab": {
     "base_uri": "https://localhost:8080/",
     "height": 34
    },
    "colab_type": "code",
    "id": "pZUlVjS9kh3F",
    "outputId": "61b9fb94-a127-4f61-b630-5975d735412d"
   },
   "outputs": [],
   "source": [
    "#Making predictions\n",
    "y_pred = loaded_model.predict(X)\n",
    "\n",
    "# Quick Predictions to see if our model is any good because the 2020 data is very sparse at the moment\n",
    "fake_pred = loaded_model.predict(fake_test)\n",
    "\n",
    "# He was accreddited 20 wins for the 2016 season\n",
    "print(f\"Accual wins: 20, Predicted Wins: {fake_pred}\")"
   ]
  },
  {
   "cell_type": "code",
   "execution_count": null,
   "metadata": {
    "colab": {
     "base_uri": "https://localhost:8080/",
     "height": 34
    },
    "colab_type": "code",
    "id": "VG15GaTXlarN",
    "outputId": "c2ff850c-ae9d-4788-b322-78b8e23952c0"
   },
   "outputs": [],
   "source": [
    "# Getting r2 score\n",
    "r2_score(y, y_pred)"
   ]
  },
  {
   "cell_type": "code",
   "execution_count": null,
   "metadata": {
    "colab": {},
    "colab_type": "code",
    "id": "CBoCz_dYlk3i"
   },
   "outputs": [],
   "source": [
    "# Making new DataFrame with real vs predicted\n",
    "df_tested = pd.DataFrame({'Real W':y, 'Predicted W':y_pred})"
   ]
  },
  {
   "cell_type": "code",
   "execution_count": null,
   "metadata": {
    "colab": {
     "base_uri": "https://localhost:8080/",
     "height": 225
    },
    "colab_type": "code",
    "id": "UwssCWEnlmvu",
    "outputId": "05614a52-9387-4dac-c275-eb6272513d26"
   },
   "outputs": [],
   "source": [
    "df_tested.head()"
   ]
  },
  {
   "cell_type": "code",
   "execution_count": null,
   "metadata": {
    "colab": {
     "base_uri": "https://localhost:8080/",
     "height": 606
    },
    "colab_type": "code",
    "id": "qMLPsL8oloLB",
    "outputId": "209c5da3-79c0-4155-be87-d5cfb2bf38dc"
   },
   "outputs": [],
   "source": [
    "# Plot out test data vs predicted\n",
    "plt.figure(figsize=(16,8))\n",
    "plt.title('Real vs Predicted Wins')\n",
    "plt.scatter(df_tested.index[:20], df_tested['Real W'][:20], color='r')\n",
    "plt.scatter(df_tested.index[:20], df_tested['Predicted W'][:20], color='blue')\n",
    "plt.ylabel('W')\n",
    "plt.xlabel('Player')\n",
    "plt.xticks(rotation=90)\n",
    "plt.legend(['Real W', 'Predicted W'])"
   ]
  },
  {
   "cell_type": "markdown",
   "metadata": {},
   "source": [
    "## Findings\n",
    "\n",
    "The 2020 MLB season and the players stats will be heavily effected by lack of games that will be played (60 total games). "
   ]
  },
  {
   "cell_type": "markdown",
   "metadata": {},
   "source": [
    "***"
   ]
  },
  {
   "cell_type": "markdown",
   "metadata": {
    "colab_type": "text",
    "id": "yf9V3Fra319v"
   },
   "source": [
    "# 2019 MLB Hitting Analysis and Model Building\n",
    "\n",
    "### About the data\n",
    "- All datasets were pulled from:  https://www.rotowire.com/baseball/stats.php\n",
    "\n",
    "\n",
    "## Project Overview\n",
    "\n",
    "In this notebook, we will examine a model to predict whether or not a team has good hitters - predicting the results of games based on W (Wins Earned). \n",
    "\n",
    "To accomplish this, we will examine 5 models.\n",
    "\n",
    "#### Model building:\n",
    "\n",
    "- Linear Regression\n",
    "- RandomForest\n",
    "- Lasso\n",
    "- Ridge\n",
    "- Elastic Net\n",
    "\n",
    "Each model will be evaluated based on model score, MAE, and MSE."
   ]
  },
  {
   "cell_type": "code",
   "execution_count": null,
   "metadata": {
    "colab": {},
    "colab_type": "code",
    "id": "lRpUc-p23uNe"
   },
   "outputs": [],
   "source": [
    "#Model Building Imports\n",
    "from sklearn.model_selection import train_test_split\n",
    "from sklearn.linear_model import LinearRegression, Lasso, Ridge, ElasticNet\n",
    "from sklearn.pipeline import Pipeline\n",
    "from sklearn.ensemble import RandomForestRegressor\n",
    "\n",
    "#Metrics\n",
    "from sklearn.metrics import mean_absolute_error, mean_squared_error\n",
    "from statsmodels.stats.outliers_influence import variance_inflation_factor"
   ]
  },
  {
   "cell_type": "code",
   "execution_count": null,
   "metadata": {
    "colab": {},
    "colab_type": "code",
    "id": "MSHaghqj4E6z"
   },
   "outputs": [],
   "source": [
    "# Read in dataset\n",
    "df = pd.read_csv('data/hitting_data/2019-batting-players.csv', index_col='Player')"
   ]
  },
  {
   "cell_type": "code",
   "execution_count": null,
   "metadata": {
    "colab": {
     "base_uri": "https://localhost:8080/",
     "height": 225
    },
    "colab_type": "code",
    "id": "dLS2SEuq4Qnq",
    "outputId": "f18bd4b9-0073-40e5-fbdf-a8122dd3b3f2"
   },
   "outputs": [],
   "source": [
    "# looking at the first 5 rows of data\n",
    "df.head(5)"
   ]
  },
  {
   "cell_type": "code",
   "execution_count": null,
   "metadata": {
    "colab": {},
    "colab_type": "code",
    "id": "bftNkvDa9HF-"
   },
   "outputs": [],
   "source": [
    "df = df.drop('Team', axis=1)"
   ]
  },
  {
   "cell_type": "code",
   "execution_count": null,
   "metadata": {
    "colab": {
     "base_uri": "https://localhost:8080/",
     "height": 210
    },
    "colab_type": "code",
    "id": "hjXSKDiv4Uu2",
    "outputId": "5ebab80b-50f7-482c-8472-bc6b33cec152"
   },
   "outputs": [],
   "source": [
    "# Describing the dataset\n",
    "print(round(df.describe()))"
   ]
  },
  {
   "cell_type": "code",
   "execution_count": null,
   "metadata": {
    "colab": {
     "base_uri": "https://localhost:8080/",
     "height": 404
    },
    "colab_type": "code",
    "id": "vj1aSk4p4btR",
    "outputId": "d5f9a635-96d6-401c-aa34-f545da110b19"
   },
   "outputs": [],
   "source": [
    "# Getting count of missing values\n",
    "missing_value_count = df.isnull().sum()\n",
    "\n",
    "# Getting missing values for all columns\n",
    "missing_value_count[:len(df.columns)]"
   ]
  },
  {
   "cell_type": "markdown",
   "metadata": {
    "colab_type": "text",
    "id": "LOxZFOZ_4-SA"
   },
   "source": [
    "### There are no missing values in this dataset"
   ]
  },
  {
   "cell_type": "markdown",
   "metadata": {
    "colab_type": "text",
    "id": "lWMZFavq5IVX"
   },
   "source": [
    "Below we have defined several functions that will help to visualize the relationships between data points."
   ]
  },
  {
   "cell_type": "code",
   "execution_count": null,
   "metadata": {
    "colab": {},
    "colab_type": "code",
    "id": "jUMfJL9y42uQ"
   },
   "outputs": [],
   "source": [
    "# Visualization Functions\n",
    "def create_distplot(df, column):\n",
    "  plt.figure(figsize=(10,5))\n",
    "  plt.title(f\"Displot: {column}\")\n",
    "  sns.distplot(df[column], hist=True, color=\"g\", kde_kws={\"shade\": True})\n",
    "\n",
    "def create_scatter(df, x, y):\n",
    "  plt.figure(figsize=(10,5))\n",
    "  plt.title(f\"Scatter: {x} vs {y}\")\n",
    "  sns.scatterplot(df[x], df[y])\n",
    "\n",
    "def create_heatmap(df):\n",
    "  corr = df.corr()\n",
    "  plt.figure(figsize=(16,8))\n",
    "  # Generate a custom diverging colormap\n",
    "  cmap = sns.diverging_palette(220, 10, as_cmap=True)\n",
    "\n",
    "  # Draw the heatmap with the mask and correct aspect ratio\n",
    "  sns.heatmap(corr, cmap=cmap, vmax=.3, center=0,\n",
    "              square=True, linewidths=.5, cbar_kws={\"shrink\": .5})\n",
    "  \n",
    "def create_lineplot(df, x, y, hue=None, style=None):\n",
    "  plt.figure(figsize=(16,8))\n",
    "  plt.title(f\"Lineplot: {x} vs {y}\")\n",
    "  sns.lineplot(x=x, y=y,\n",
    "               hue = hue,\n",
    "               style=style,\n",
    "               data=df)"
   ]
  },
  {
   "cell_type": "code",
   "execution_count": null,
   "metadata": {
    "colab": {
     "base_uri": "https://localhost:8080/",
     "height": 350
    },
    "colab_type": "code",
    "id": "CPYYTmz170WT",
    "outputId": "a1816cd0-b3e8-4cac-ca68-ee1f8fef94f0"
   },
   "outputs": [],
   "source": [
    "# Scatter for Hits vs Batting Average\n",
    "create_scatter(df, 'H', 'AVG')"
   ]
  },
  {
   "cell_type": "code",
   "execution_count": null,
   "metadata": {
    "colab": {
     "base_uri": "https://localhost:8080/",
     "height": 350
    },
    "colab_type": "code",
    "id": "giYblGo6-T19",
    "outputId": "9be2ae29-968e-48f4-9359-154397439ad2"
   },
   "outputs": [],
   "source": [
    "# Scatter for Homeruns vs Batting Average\n",
    "create_scatter(df, 'HR', 'AVG')"
   ]
  },
  {
   "cell_type": "code",
   "execution_count": null,
   "metadata": {
    "colab": {
     "base_uri": "https://localhost:8080/",
     "height": 350
    },
    "colab_type": "code",
    "id": "hwHDE_mb_bHp",
    "outputId": "7237d7c4-95f9-4bfd-dacc-12f0b30fcb16"
   },
   "outputs": [],
   "source": [
    "#Scatter for Runs Batted In vs Batting Average\n",
    "create_scatter(df, 'RBI', 'AVG')"
   ]
  },
  {
   "cell_type": "code",
   "execution_count": null,
   "metadata": {
    "colab": {
     "base_uri": "https://localhost:8080/",
     "height": 483
    },
    "colab_type": "code",
    "id": "a1vydG6m_7v4",
    "outputId": "dfadbd45-8e49-4029-f8c9-e27682d783ff"
   },
   "outputs": [],
   "source": [
    "#Heatmap for data\n",
    "create_heatmap(df.corr())"
   ]
  },
  {
   "cell_type": "code",
   "execution_count": null,
   "metadata": {
    "colab": {},
    "colab_type": "code",
    "id": "1V6vV5l_c9jz"
   },
   "outputs": [],
   "source": [
    "# Getting all cont features in one list\n",
    "cont_features = df[['Age',\n",
    " 'G',\n",
    " 'AB',\n",
    " 'R',\n",
    " 'H',\n",
    " '2B',\n",
    " '3B',\n",
    " 'HR',\n",
    " 'RBI',\n",
    " 'SB',\n",
    " 'CS',\n",
    " 'BB',\n",
    " 'SO',\n",
    " 'SH',\n",
    " 'SF',\n",
    " 'HBP',\n",
    " 'AVG',\n",
    " 'OBP',\n",
    " 'SLG',\n",
    " 'OPS']]"
   ]
  },
  {
   "cell_type": "code",
   "execution_count": null,
   "metadata": {
    "colab": {
     "base_uri": "https://localhost:8080/",
     "height": 1000
    },
    "colab_type": "code",
    "id": "wyMb9xXMfJJX",
    "outputId": "b822ac97-f436-48fd-f47f-d9c0a85f122a"
   },
   "outputs": [],
   "source": [
    "# making dist plots for all cont features\n",
    "for feature in cont_features:\n",
    "  create_distplot(df, feature)"
   ]
  },
  {
   "cell_type": "markdown",
   "metadata": {},
   "source": [
    "## Correlation Matrix\n",
    "\n",
    "The correlation matrix allows us to compare the various data points to identify how correlated each is to the others.  From this information, we can determine which features to use for building our models."
   ]
  },
  {
   "cell_type": "code",
   "execution_count": null,
   "metadata": {
    "colab": {
     "base_uri": "https://localhost:8080/",
     "height": 659
    },
    "colab_type": "code",
    "id": "h_1mqhx3fPeZ",
    "outputId": "98ffcc38-09e5-402d-bd3b-96c2bbe4bbd4"
   },
   "outputs": [],
   "source": [
    "df_corr = df.corr()\n",
    "c = df_corr"
   ]
  },
  {
   "cell_type": "code",
   "execution_count": null,
   "metadata": {},
   "outputs": [],
   "source": [
    "#visualizing the correlation matrix\n",
    "plt.figure(figsize=(30,15))\n",
    "sns.heatmap(c,cmap=\"BrBG\", annot=True)"
   ]
  },
  {
   "cell_type": "code",
   "execution_count": null,
   "metadata": {
    "colab": {},
    "colab_type": "code",
    "id": "lWK3RNhXgYhG"
   },
   "outputs": [],
   "source": [
    "# Getting Features that have a correlation of greater than 0.5 for model building\n",
    "\n",
    "selected_features = []\n",
    "for i in range(len(df_corr['AVG'])):\n",
    "  if df_corr['AVG'].values[i] >= 0.5 and df_corr['AVG'].values[i] != 1.0:\n",
    "    selected_features.append(df_corr['AVG'].index[i])"
   ]
  },
  {
   "cell_type": "code",
   "execution_count": null,
   "metadata": {
    "colab": {
     "base_uri": "https://localhost:8080/",
     "height": 34
    },
    "colab_type": "code",
    "id": "DnhiG-WnhVHX",
    "outputId": "99e071eb-5645-4c5d-84d6-6b6ea42368c2"
   },
   "outputs": [],
   "source": [
    "selected_features"
   ]
  },
  {
   "cell_type": "markdown",
   "metadata": {
    "colab_type": "text",
    "id": "VZyzPf1Tjpq1"
   },
   "source": [
    "# Splitting the Data to train and test the various models."
   ]
  },
  {
   "cell_type": "code",
   "execution_count": null,
   "metadata": {
    "colab": {},
    "colab_type": "code",
    "id": "irXUXBEtkURk"
   },
   "outputs": [],
   "source": [
    "# Splitting Data into train and test\n",
    "X = df[selected_features]\n",
    "y = df['AVG']\n",
    "\n",
    "X_train, X_test, y_train, y_test = train_test_split(X, y, test_size=0.3)"
   ]
  },
  {
   "cell_type": "markdown",
   "metadata": {},
   "source": [
    "### Evaluating the Models\n",
    "\n",
    "The Mean absolute error (MAE) is a linear score which means that all the individual differences are weighted equally in the average. \n",
    "\n",
    "Mean squared error (MSE) is a quadratic scoring rule which measures the average magnitude of the error."
   ]
  },
  {
   "cell_type": "code",
   "execution_count": null,
   "metadata": {
    "colab": {},
    "colab_type": "code",
    "id": "Tvk_59vlmzF3"
   },
   "outputs": [],
   "source": [
    "#Function to test different Models\n",
    "def test_model(model_to_test, X_test, X_train, y_test, y_train):\n",
    "    f_steps = [\n",
    "                ('model', model_to_test)\n",
    "      ]\n",
    "\n",
    "    f_pipe = Pipeline(steps=f_steps)\n",
    "    f_pipe.fit(X_train, y_train)\n",
    "\n",
    "    f_preds = f_pipe.predict(X_test)\n",
    "    print(\"-\" * 10 + \" Model Stats \" + \"-\" * 10)\n",
    "    print('\\n')\n",
    "    print(f\"Model Score: {f_pipe.score(X_test, y_test)}\")\n",
    "    print(f\"MAE: {mean_absolute_error(y_test, f_preds)}\")\n",
    "    print(f\"MSE: {mean_squared_error(y_test, f_preds)}\")\n",
    "    print('\\n')\n",
    "    print('-' * 80)\n",
    "    print('\\n')\n",
    "    plt.figure(figsize=(10,5))\n",
    "    plt.title(\"Model Predictions\")\n",
    "    plt.scatter(y_test.index[:20], y_test.values[:20])\n",
    "    plt.scatter(y_test.index[:20], f_preds[:20])\n",
    "    plt.xticks(rotation=90)\n",
    "    plt.legend(['Test Data', 'Predictions'])\n",
    "\n",
    "    return f_pipe"
   ]
  },
  {
   "cell_type": "markdown",
   "metadata": {},
   "source": [
    "## Linear Regression"
   ]
  },
  {
   "cell_type": "code",
   "execution_count": null,
   "metadata": {
    "colab": {
     "base_uri": "https://localhost:8080/",
     "height": 614
    },
    "colab_type": "code",
    "id": "tHf0JJIUom9M",
    "outputId": "128f80aa-ced2-4bd9-bb0d-0f2ec6e2d5fc"
   },
   "outputs": [],
   "source": [
    "#LinearRegression\n",
    "lr_model = test_model(LinearRegression(), X_test, X_train, y_test, y_train)"
   ]
  },
  {
   "cell_type": "markdown",
   "metadata": {},
   "source": [
    "## Random Forest"
   ]
  },
  {
   "cell_type": "code",
   "execution_count": null,
   "metadata": {
    "colab": {
     "base_uri": "https://localhost:8080/",
     "height": 614
    },
    "colab_type": "code",
    "id": "JJN5hc4y0qmd",
    "outputId": "c4f738be-e272-497b-aa3a-cfddd8d894bc"
   },
   "outputs": [],
   "source": [
    "rf_model = test_model(RandomForestRegressor(), X_test, X_train, y_test, y_train)"
   ]
  },
  {
   "cell_type": "markdown",
   "metadata": {},
   "source": [
    "## Lasso"
   ]
  },
  {
   "cell_type": "code",
   "execution_count": null,
   "metadata": {
    "colab": {
     "base_uri": "https://localhost:8080/",
     "height": 614
    },
    "colab_type": "code",
    "id": "7NJB4ijRo3Km",
    "outputId": "e1b8433d-c034-41cd-ea0d-994b823711a4"
   },
   "outputs": [],
   "source": [
    "#Lasso Model\n",
    "lasso_model = test_model(Lasso(alpha=0.3), X_test, X_train, y_test, y_train)"
   ]
  },
  {
   "cell_type": "markdown",
   "metadata": {},
   "source": [
    "## Ridge"
   ]
  },
  {
   "cell_type": "code",
   "execution_count": null,
   "metadata": {
    "colab": {
     "base_uri": "https://localhost:8080/",
     "height": 614
    },
    "colab_type": "code",
    "id": "7ZeWNKqZpQ0l",
    "outputId": "8f828168-fbfb-444b-e53b-4187b6a471ba"
   },
   "outputs": [],
   "source": [
    "#Ridge Model\n",
    "ridge_model = test_model(Ridge(alpha=0.7), X_test, X_train, y_test, y_train)"
   ]
  },
  {
   "cell_type": "markdown",
   "metadata": {},
   "source": [
    "## Elastic Net"
   ]
  },
  {
   "cell_type": "code",
   "execution_count": null,
   "metadata": {
    "colab": {
     "base_uri": "https://localhost:8080/",
     "height": 614
    },
    "colab_type": "code",
    "id": "MuqKh_q0ph3U",
    "outputId": "40d57cce-5dab-4967-d8a9-5c64e222d96e"
   },
   "outputs": [],
   "source": [
    "#ElasticNet Model\n",
    "elastic_model = test_model(ElasticNet(alpha=0.5), X_test, X_train, y_test, y_train)"
   ]
  },
  {
   "cell_type": "markdown",
   "metadata": {},
   "source": [
    "***"
   ]
  },
  {
   "cell_type": "markdown",
   "metadata": {},
   "source": [
    "### 2020 Pitching Predictions\n",
    "\n",
    "Now we are going to test our model again using the 2020 independent data to predict the 2020 actual results."
   ]
  },
  {
   "cell_type": "code",
   "execution_count": null,
   "metadata": {
    "colab": {},
    "colab_type": "code",
    "id": "URbBDj-nsf8_"
   },
   "outputs": [],
   "source": [
    "# Bring in 2020 Data\n",
    "df_2020 = pd.read_csv('data/hitting_data/2020-batting-players.csv', index_col='Player')"
   ]
  },
  {
   "cell_type": "code",
   "execution_count": null,
   "metadata": {
    "colab": {},
    "colab_type": "code",
    "id": "guhY7CNnsi50"
   },
   "outputs": [],
   "source": [
    "#Split out data into X and y\n",
    "X_2020 = df_2020[selected_features]\n",
    "y_2020 = df_2020['AVG']"
   ]
  },
  {
   "cell_type": "code",
   "execution_count": null,
   "metadata": {
    "colab": {},
    "colab_type": "code",
    "id": "1M_pOKZms0YA"
   },
   "outputs": [],
   "source": [
    "# Make predictions\n",
    "y_preds = lr_model.predict(X_2020)"
   ]
  },
  {
   "cell_type": "code",
   "execution_count": null,
   "metadata": {
    "colab": {
     "base_uri": "https://localhost:8080/",
     "height": 34
    },
    "colab_type": "code",
    "id": "j-hvrUmls9J1",
    "outputId": "e99a0003-2f60-4024-ff05-01dbb7c9e817"
   },
   "outputs": [],
   "source": [
    "# Score the Model\n",
    "lr_model.score(X_2020, y_2020)"
   ]
  },
  {
   "cell_type": "code",
   "execution_count": null,
   "metadata": {
    "colab": {},
    "colab_type": "code",
    "id": "R-gNxFmmvUfW"
   },
   "outputs": [],
   "source": [
    "def score_new_dataset(model, X, y):\n",
    "  # Make predictions\n",
    "  f_preds = model.predict(X)\n",
    "\n",
    "  # Score the Model\n",
    "  f_score = model.score(X, y)\n",
    "\n",
    "  #Print out findings\n",
    "  print(\"Model Metrics\")\n",
    "  print(\"-\" * 50)\n",
    "  print('\\n')\n",
    "  print(f\"Model Score: {f_score}\")\n",
    "  print(f\"MAE: {mean_absolute_error(y, f_preds)}\")\n",
    "  print(f\"MSE: {mean_squared_error(y, y_preds)}\")\n",
    "\n",
    "  # Graph Predictions\n",
    "  print('\\n')\n",
    "  print('-' * 80)\n",
    "  print('\\n')\n",
    "  plt.figure(figsize=(10,5))\n",
    "  plt.title(\"First 10 Model Predictions\")\n",
    "  plt.scatter(y.index[:10], y.values[:10])\n",
    "  plt.scatter(y.index[:10], f_preds[:10])\n",
    "  plt.xticks(rotation=45)\n",
    "  plt.legend(['Test Data', 'Predictions'])\n",
    "\n",
    "  #Return predictions\n",
    "  return f_preds\n",
    "\n"
   ]
  },
  {
   "cell_type": "markdown",
   "metadata": {},
   "source": [
    "### Linear Regression 2020"
   ]
  },
  {
   "cell_type": "code",
   "execution_count": null,
   "metadata": {
    "colab": {
     "base_uri": "https://localhost:8080/",
     "height": 598
    },
    "colab_type": "code",
    "id": "wv5ATTUfvZUJ",
    "outputId": "5253c72a-a06b-48d1-c10a-11bad3716202"
   },
   "outputs": [],
   "source": [
    "#LinearRegression Scoring on 2020 Data\n",
    "lr_preds = score_new_dataset(lr_model, X_2020, y_2020)"
   ]
  },
  {
   "cell_type": "markdown",
   "metadata": {},
   "source": [
    "### Random Forest 2020"
   ]
  },
  {
   "cell_type": "code",
   "execution_count": null,
   "metadata": {
    "colab": {
     "base_uri": "https://localhost:8080/",
     "height": 598
    },
    "colab_type": "code",
    "id": "7F3nUV991WMZ",
    "outputId": "aacc9337-53f9-4091-cd9f-ff26df4c7ca3"
   },
   "outputs": [],
   "source": [
    "#RandomForest Scoring on 2020 Data\n",
    "rf_preds = score_new_dataset(rf_model, X_2020, y_2020)"
   ]
  },
  {
   "cell_type": "markdown",
   "metadata": {},
   "source": [
    "### Ridge 2020"
   ]
  },
  {
   "cell_type": "code",
   "execution_count": null,
   "metadata": {
    "colab": {
     "base_uri": "https://localhost:8080/",
     "height": 598
    },
    "colab_type": "code",
    "id": "NN_U22oDwJZP",
    "outputId": "1b9e6a38-53bb-4ee3-ee16-37c7d9e24af4"
   },
   "outputs": [],
   "source": [
    "#RidgeRegression Scoring on 2020 Data\n",
    "ridge_preds = score_new_dataset(ridge_model, X_2020, y_2020)"
   ]
  },
  {
   "cell_type": "markdown",
   "metadata": {},
   "source": [
    "### Lasso 2020"
   ]
  },
  {
   "cell_type": "code",
   "execution_count": null,
   "metadata": {
    "colab": {
     "base_uri": "https://localhost:8080/",
     "height": 598
    },
    "colab_type": "code",
    "id": "2QJ0SaM6wSJ6",
    "outputId": "b9df1c77-7378-41bd-af63-bed1e81f03fc"
   },
   "outputs": [],
   "source": [
    "#LassoRegression Scoring on 2020 Data\n",
    "lasso_preds = score_new_dataset(lasso_model, X_2020, y_2020)"
   ]
  },
  {
   "cell_type": "markdown",
   "metadata": {},
   "source": [
    "### Elastic Net 2020"
   ]
  },
  {
   "cell_type": "code",
   "execution_count": null,
   "metadata": {
    "colab": {
     "base_uri": "https://localhost:8080/",
     "height": 598
    },
    "colab_type": "code",
    "id": "ksVp3XFZwVXe",
    "outputId": "76241d6c-2b9f-4020-b797-d9717751c21e"
   },
   "outputs": [],
   "source": [
    "#ElasticNetRegression Scoring on 2020 Data\n",
    "elastic_preds = score_new_dataset(elastic_model, X_2020, y_2020)"
   ]
  },
  {
   "cell_type": "markdown",
   "metadata": {
    "colab_type": "text",
    "id": "T2cGbTIzhGEW"
   },
   "source": [
    "---"
   ]
  },
  {
   "cell_type": "markdown",
   "metadata": {},
   "source": [
    "# Comparing the Top Models\n",
    "\n",
    "- Linear Regression\n",
    "- Random Forest\n",
    "- Ridge\n",
    "\n",
    "Plotting the various models agains the actual results from 2020."
   ]
  },
  {
   "cell_type": "code",
   "execution_count": null,
   "metadata": {
    "colab": {
     "base_uri": "https://localhost:8080/",
     "height": 592
    },
    "colab_type": "code",
    "id": "LmucXbF5wb6k",
    "outputId": "5efc632a-f849-47b4-ade4-8d13a75f9b1c"
   },
   "outputs": [],
   "source": [
    "# Comparing All Models Top 20 Predictions\n",
    "plt.figure(figsize=(16,8))\n",
    "plt.title(\"First 20 Model Predictions\")\n",
    "plt.scatter(y_2020.index[:20], y_2020.values[:20])\n",
    "plt.scatter(y_2020.index[:20], lr_preds[:20])\n",
    "plt.scatter(y_2020.index[:20], ridge_preds[:20])\n",
    "plt.scatter(y_2020.index[:20], rf_preds[:20])\n",
    "plt.xticks(rotation=90)\n",
    "plt.legend(['Test Data', 'LinearRegression', 'Ridge', 'Random Forest'], loc='upper left')"
   ]
  },
  {
   "cell_type": "code",
   "execution_count": null,
   "metadata": {
    "colab": {},
    "colab_type": "code",
    "id": "_FvjIlx07jeU"
   },
   "outputs": [],
   "source": [
    "# LinearRegression Predictions\n",
    "lr_predictions_df = pd.DataFrame({'Test Data': y_2020, 'LR Predictions':lr_preds})"
   ]
  },
  {
   "cell_type": "code",
   "execution_count": null,
   "metadata": {
    "colab": {
     "base_uri": "https://localhost:8080/",
     "height": 225
    },
    "colab_type": "code",
    "id": "YpPx9m-0BKGQ",
    "outputId": "80f6f526-bfb6-4d51-cad2-4a531fd1fe8d"
   },
   "outputs": [],
   "source": [
    "# Lets see the lr_predictions_df \n",
    "lr_predictions_df.head()"
   ]
  },
  {
   "cell_type": "code",
   "execution_count": null,
   "metadata": {
    "colab": {},
    "colab_type": "code",
    "id": "xYJwzO4oBVXK"
   },
   "outputs": [],
   "source": [
    "# RidgeRegression Predictions\n",
    "ridge_predictions_df = pd.DataFrame({'Test Data': y_2020, 'Ridge Predictions':ridge_preds})"
   ]
  },
  {
   "cell_type": "code",
   "execution_count": null,
   "metadata": {
    "colab": {
     "base_uri": "https://localhost:8080/",
     "height": 225
    },
    "colab_type": "code",
    "id": "JL5TLjT9CJCa",
    "outputId": "99788725-d064-4979-a1d3-c27275d2e12c"
   },
   "outputs": [],
   "source": [
    "# Lets see the ridge_regression_df\n",
    "ridge_predictions_df.head()"
   ]
  },
  {
   "cell_type": "code",
   "execution_count": null,
   "metadata": {
    "colab": {},
    "colab_type": "code",
    "id": "sVBV1TX7CKSm"
   },
   "outputs": [],
   "source": [
    "# Exporting Model for later use\n",
    "import pickle\n",
    "\n",
    "filename_ridge = 'ridge_hitting_model.sav'\n",
    "pickle.dump(ridge_model, open(filename_ridge, 'wb'))\n",
    "\n",
    "filename_lr = 'lr_hitting_model.sav'\n",
    "pickle.dump(lr_model, open(filename_lr, 'wb'))"
   ]
  },
  {
   "cell_type": "markdown",
   "metadata": {
    "colab_type": "text",
    "id": "9ba1smigl1Rt"
   },
   "source": [
    "---"
   ]
  },
  {
   "cell_type": "markdown",
   "metadata": {
    "colab_type": "text",
    "id": "4A8dUXJAl5OC"
   },
   "source": [
    "# Final End of Season Statistical Predictions"
   ]
  },
  {
   "cell_type": "code",
   "execution_count": null,
   "metadata": {
    "colab": {},
    "colab_type": "code",
    "id": "UfudifHAlrPx"
   },
   "outputs": [],
   "source": [
    "# Bringing in the predictions\n",
    "pitching_df = pd.read_csv('data/output_data/pitching_predictions.csv', index_col='Player')\n",
    "\n",
    "lr_hitting_df = pd.read_csv('data/output_data/lr_hitting_predictions.csv', index_col='Player')\n",
    "ridge_hitting_df = pd.read_csv('data/output_data/ridge_hitting_predictions.csv', index_col='Player')"
   ]
  },
  {
   "cell_type": "markdown",
   "metadata": {},
   "source": [
    "## Pitching Predictions 2020 End of Season"
   ]
  },
  {
   "cell_type": "code",
   "execution_count": null,
   "metadata": {
    "colab": {
     "base_uri": "https://localhost:8080/",
     "height": 225
    },
    "colab_type": "code",
    "id": "-xM6LhrYmI1k",
    "outputId": "b88a86ef-7853-40ca-dd52-a0e51548ca36"
   },
   "outputs": [],
   "source": [
    "# Pitching Preds\n",
    "pitching_df.head()"
   ]
  },
  {
   "cell_type": "code",
   "execution_count": null,
   "metadata": {
    "colab": {
     "base_uri": "https://localhost:8080/",
     "height": 393
    },
    "colab_type": "code",
    "id": "cIPjkBp3mLao",
    "outputId": "2d6a08f4-16a4-42d0-d607-357eaee5cf1a"
   },
   "outputs": [],
   "source": [
    "# Plotting out accuracy of pitching predictions\n",
    "plt.figure(figsize=(10,5))\n",
    "plt.title(\"First 10 Real Wins vs Predicted Wins\")\n",
    "plt.plot(pitching_df.index[:10], pitching_df['Real W'][:10], color='b')\n",
    "plt.plot(pitching_df.index[:10], pitching_df['Predicted W'][:10], color='g')\n",
    "plt.xticks(rotation=45)\n",
    "plt.legend(['Real Wins', 'Predicted Wins'])\n",
    "plt.show()"
   ]
  },
  {
   "cell_type": "code",
   "execution_count": null,
   "metadata": {
    "colab": {},
    "colab_type": "code",
    "id": "DzIOTpQVmWj-"
   },
   "outputs": [],
   "source": [
    "# Function to calculate Expected Pitcher Wins\n",
    "def calc_xW(w): \n",
    "  if w != 0:\n",
    "    return ((w / 18) * 60) * 2.25\n",
    "  else:\n",
    "    return 0"
   ]
  },
  {
   "cell_type": "code",
   "execution_count": null,
   "metadata": {
    "colab": {},
    "colab_type": "code",
    "id": "rOENc28CmYUp"
   },
   "outputs": [],
   "source": [
    "# Apply function from above\n",
    "pitching_df['xW'] = pitching_df['Real W'].apply(calc_xW)"
   ]
  },
  {
   "cell_type": "code",
   "execution_count": null,
   "metadata": {
    "colab": {
     "base_uri": "https://localhost:8080/",
     "height": 225
    },
    "colab_type": "code",
    "id": "Ua7VBpK8maHC",
    "outputId": "9194e676-b9a8-48c7-9658-87968106a534"
   },
   "outputs": [],
   "source": [
    "# Rename the columns\n",
    "pitching_df = pitching_df.rename(columns={'Real W':'Current Wins', 'Predicted W':'Predicted Wins',\n",
    "                                          'xW':'Current Predicted Wins (EOS)'})\n",
    "pitching_df.head()"
   ]
  },
  {
   "cell_type": "markdown",
   "metadata": {},
   "source": [
    "***"
   ]
  },
  {
   "cell_type": "markdown",
   "metadata": {},
   "source": [
    "## Hitting Predictions 2020 End of Season"
   ]
  },
  {
   "cell_type": "code",
   "execution_count": null,
   "metadata": {
    "colab": {
     "base_uri": "https://localhost:8080/",
     "height": 225
    },
    "colab_type": "code",
    "id": "kYwJx3X5mE4J",
    "outputId": "932895db-dfcd-4caf-9448-eb14d256de05"
   },
   "outputs": [],
   "source": [
    "# LR Hitting\n",
    "lr_hitting_df.head()"
   ]
  },
  {
   "cell_type": "code",
   "execution_count": null,
   "metadata": {
    "colab": {
     "base_uri": "https://localhost:8080/",
     "height": 387
    },
    "colab_type": "code",
    "id": "dFwQNLYBmPDy",
    "outputId": "6d7621d4-167c-4050-a8d8-b6f39e1326d0"
   },
   "outputs": [],
   "source": [
    "# Plotting out Accuracy of LinearRegressor Predictions for hitting\n",
    "plt.figure(figsize=(10,5))\n",
    "plt.title(\"First 5 Test Data vs Predicted Batting Average\")\n",
    "plt.plot(lr_hitting_df.index[:10], lr_hitting_df['Test Data'][:10], color='b')\n",
    "plt.plot(lr_hitting_df.index[:10], lr_hitting_df['LR Predictions'][:10], color='g')\n",
    "plt.xticks(rotation=45)\n",
    "plt.legend(['Test Data', 'LR Predictions'])\n",
    "plt.show()"
   ]
  },
  {
   "cell_type": "code",
   "execution_count": null,
   "metadata": {
    "colab": {
     "base_uri": "https://localhost:8080/",
     "height": 225
    },
    "colab_type": "code",
    "id": "4TGZBlHomGm2",
    "outputId": "c55a949a-c141-42e8-b3bb-31c72d4da11e"
   },
   "outputs": [],
   "source": [
    "# Ridge Hitting\n",
    "ridge_hitting_df.head()"
   ]
  },
  {
   "cell_type": "code",
   "execution_count": null,
   "metadata": {
    "colab": {
     "base_uri": "https://localhost:8080/",
     "height": 387
    },
    "colab_type": "code",
    "id": "D7R26d67mNGy",
    "outputId": "88608fb7-e140-414e-b7eb-77ad489aa621"
   },
   "outputs": [],
   "source": [
    "# Plotting out Accuracy of RidgeRegressor Predictions for hitting\n",
    "plt.figure(figsize=(10,5))\n",
    "plt.title(\"First 5 Test Data vs Predicted Batting Average\")\n",
    "plt.plot(ridge_hitting_df.index[:10], ridge_hitting_df['Test Data'][:10], color='b')\n",
    "plt.plot(ridge_hitting_df.index[:10], ridge_hitting_df['Ridge Predictions'][:10], color='g')\n",
    "plt.xticks(rotation=45)\n",
    "plt.legend(['Test Data', 'Ridge Predictions'])\n",
    "plt.show()"
   ]
  },
  {
   "cell_type": "code",
   "execution_count": null,
   "metadata": {
    "colab": {},
    "colab_type": "code",
    "id": "6qQMfeUrmREk"
   },
   "outputs": [],
   "source": [
    "# Calculate xBA based on total 2020 games and number of games played \n",
    "def calc_xba(ba):\n",
    "  if ba < 1.0: \n",
    "    return (ba / 18) * 60 - ba * 2\n",
    "  else:\n",
    "    return ba"
   ]
  },
  {
   "cell_type": "code",
   "execution_count": null,
   "metadata": {
    "colab": {},
    "colab_type": "code",
    "id": "bjSZMPtMmTMt"
   },
   "outputs": [],
   "source": [
    "# Apply function from above\n",
    "ridge_hitting_df['xBA'] = ridge_hitting_df['Ridge Predictions'].apply(calc_xba)"
   ]
  },
  {
   "cell_type": "code",
   "execution_count": null,
   "metadata": {
    "colab": {
     "base_uri": "https://localhost:8080/",
     "height": 225
    },
    "colab_type": "code",
    "id": "mdxiVm3kmU7F",
    "outputId": "ee1da901-0f10-4e6d-8d0e-7f8e43367fe8"
   },
   "outputs": [],
   "source": [
    "# Rename some columns\n",
    "ridge_hitting_df = ridge_hitting_df.rename(columns={'Test Data':'Current BA', 'Ridge Predictions':'BA Prediction',\n",
    "                                                    'xBA':'Expected BA (EOS)'})\n",
    "ridge_hitting_df.head()"
   ]
  },
  {
   "cell_type": "markdown",
   "metadata": {
    "colab_type": "text",
    "id": "mDt4G6ktmiMb"
   },
   "source": [
    "---"
   ]
  },
  {
   "cell_type": "markdown",
   "metadata": {
    "colab_type": "text",
    "id": "xTKACSDsmj_s"
   },
   "source": [
    "# Findings\n",
    "\n",
    "The 2020 MLB season and the players stats will be heavily effected by lack of games that will be played (60 total games). "
   ]
  },
  {
   "cell_type": "markdown",
   "metadata": {
    "colab": {},
    "colab_type": "code",
    "id": "4EsVCo5GmbXp"
   },
   "source": [
    "With this unexpected hitch in the 2020 season it makes it difficult to make time series predictions on the entire season. "
   ]
  },
  {
   "cell_type": "markdown",
   "metadata": {
    "colab": {
     "base_uri": "https://localhost:8080/",
     "height": 225
    },
    "colab_type": "code",
    "id": "C0ANWLGhmfYa",
    "outputId": "991cfd3b-57b9-419a-bd14-ec7da64c92fe"
   },
   "source": [
    "For this reason I had to use some math to predict the xBA (Expected Batting Averrage), and xW (Expected Pitching Wins). \n",
    "When using this math there is an upper limit of the accuracy."
   ]
  },
  {
   "cell_type": "code",
   "execution_count": null,
   "metadata": {
    "colab": {},
    "colab_type": "code",
    "id": "4WKorcF-nq7K"
   },
   "outputs": [],
   "source": []
  }
 ],
 "metadata": {
  "colab": {
   "collapsed_sections": [],
   "name": "2019/2020_mlb_data_analysis.ipynb",
   "provenance": [],
   "toc_visible": true
  },
  "kernelspec": {
   "display_name": "Python 3",
   "language": "python",
   "name": "python3"
  },
  "language_info": {
   "codemirror_mode": {
    "name": "ipython",
    "version": 3
   },
   "file_extension": ".py",
   "mimetype": "text/x-python",
   "name": "python",
   "nbconvert_exporter": "python",
   "pygments_lexer": "ipython3",
   "version": "3.7.4"
  }
 },
 "nbformat": 4,
 "nbformat_minor": 1
}
